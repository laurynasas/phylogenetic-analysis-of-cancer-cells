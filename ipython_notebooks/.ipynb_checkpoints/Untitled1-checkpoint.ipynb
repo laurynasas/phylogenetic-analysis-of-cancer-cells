{
 "cells": [
  {
   "cell_type": "code",
   "execution_count": 256,
   "metadata": {
    "collapsed": false
   },
   "outputs": [],
   "source": [
    "import helpers\n",
    "import numpy as np\n",
    "from scipy.cluster.hierarchy import fcluster, linkage\n",
    "from sklearn.metrics import adjusted_rand_score,silhouette_score\n",
    "from k_medoid_clustering import KMedoid\n",
    "from bernoulli_mixture_model import BMM\n",
    "import timeit\n",
    "\n"
   ]
  },
  {
   "cell_type": "code",
   "execution_count": 257,
   "metadata": {
    "collapsed": true
   },
   "outputs": [],
   "source": [
    "helper = helpers.Helper()"
   ]
  },
  {
   "cell_type": "code",
   "execution_count": 258,
   "metadata": {
    "collapsed": true
   },
   "outputs": [],
   "source": [
    "raw_data_dir = \"./populated_data/populated_true_genotypes_5_5_0.01_20.txt\"\n"
   ]
  },
  {
   "cell_type": "code",
   "execution_count": 259,
   "metadata": {
    "collapsed": true
   },
   "outputs": [],
   "source": [
    "clustering_methods = [\"bmm\",\"slc\",\"k_means\"]"
   ]
  },
  {
   "cell_type": "code",
   "execution_count": 260,
   "metadata": {
    "collapsed": true
   },
   "outputs": [],
   "source": [
    "no_clusters = 5\n",
    "vector_size = 5\n",
    "number_of_iterations_for_bmm = 25"
   ]
  },
  {
   "cell_type": "code",
   "execution_count": 261,
   "metadata": {
    "collapsed": true
   },
   "outputs": [],
   "source": [
    "def _do_slc(no_clusters, distance_matrix):\n",
    "    start = timeit.default_timer()\n",
    "    labels = fcluster(linkage(distance_matrix, method='complete'), t=no_clusters, criterion='maxclust')\n",
    "    stop = timeit.default_timer()\n",
    "\n",
    "    new_data = {}\n",
    "\n",
    "    for cluster_label in labels - 1:\n",
    "        if new_data.get(cluster_label):\n",
    "            new_data[cluster_label] += [map(int, unique_rows.keys()[cluster_label].split(\",\"))]\n",
    "        else:\n",
    "            new_data[cluster_label] = [map(int, unique_rows.keys()[cluster_label].split(\",\"))]\n",
    "\n",
    "    new_data_formatetd = {}\n",
    "    for key, value in new_data.items():\n",
    "        new_value = [','.join(map(str, el)) for el in value]\n",
    "        new_data_formatetd[key] = new_value\n",
    "\n",
    "    return new_data_formatetd, labels, stop, start"
   ]
  },
  {
   "cell_type": "code",
   "execution_count": 262,
   "metadata": {
    "collapsed": false
   },
   "outputs": [
    {
     "name": "stdout",
     "output_type": "stream",
     "text": [
      "======== bmm ==========\n",
      "Silhouette score:  0.790236928105\n",
      "Time taken:  0.267663955688 sec\n",
      "======== slc ==========\n",
      "Silhouette score:  0.813888888889\n",
      "Time taken:  0.000236988067627 sec\n",
      "======== k_means ==========\n",
      "Silhouette score:  0.925\n",
      "Time taken:  0.00891304016113 sec\n"
     ]
    }
   ],
   "source": [
    "unique_rows, full_data_dict, full_info = helper.read_simulated_data_file(raw_data_dir)\n",
    "distance_matrix = np.matrix(helper.find_distance_matrix(unique_rows))\n",
    "\n",
    "for clustering_method in clustering_methods:\n",
    "    if clustering_method == \"slc\":\n",
    "        clustered_dict, labels, stop,start = _do_slc(no_clusters, distance_matrix)\n",
    "\n",
    "        predicted_labels = labels-1\n",
    "    elif clustering_method == \"k_means\":\n",
    "\n",
    "        predefined_kwargs = {\"number_of_clusters\": no_clusters, \"unique_rows\": unique_rows,\n",
    "                             \"full_data_dict\": full_data_dict, \"full_info\": full_info,\n",
    "                             \"vector_size\": vector_size}\n",
    "        k_means_instance = KMedoid(**predefined_kwargs)\n",
    "        start = timeit.default_timer()\n",
    "        clustered_dict = k_means_instance.do_k_means_using_sklearn()\n",
    "        stop = timeit.default_timer()\n",
    "\n",
    "        predicted_labels = k_means_instance.get_sklearn_predicted_labels()\n",
    "    elif clustering_method == \"bmm\":\n",
    "        bmm = BMM(no_clusters, unique_rows, full_data_dict, full_info, number_of_iterations_for_bmm)\n",
    "        start = timeit.default_timer()\n",
    "        clustered_dict,predicted_labels = bmm.do_clustering()\n",
    "        stop = timeit.default_timer()\n",
    "\n",
    "        predicted_labels = np.asarray(predicted_labels)\n",
    "    print \"========\",clustering_method,\"==========\"\n",
    "    print \"Silhouette score: \", silhouette_score(distance_matrix,predicted_labels, metric=\"precomputed\")\n",
    "    print \"Time taken: \", (stop - start),\"sec\"\n"
   ]
  }
 ],
 "metadata": {
  "anaconda-cloud": {},
  "kernelspec": {
   "display_name": "Python [default]",
   "language": "python",
   "name": "python2"
  },
  "language_info": {
   "codemirror_mode": {
    "name": "ipython",
    "version": 2
   },
   "file_extension": ".py",
   "mimetype": "text/x-python",
   "name": "python",
   "nbconvert_exporter": "python",
   "pygments_lexer": "ipython2",
   "version": "2.7.12"
  }
 },
 "nbformat": 4,
 "nbformat_minor": 1
}
