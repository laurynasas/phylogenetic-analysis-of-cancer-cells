{
 "cells": [
  {
   "cell_type": "markdown",
   "metadata": {},
   "source": [
    "This is the start of Pipeline"
   ]
  },
  {
   "cell_type": "code",
   "execution_count": 33,
   "metadata": {
    "collapsed": false
   },
   "outputs": [],
   "source": [
    "import tree_eval_methods\n",
    "import numpy as np"
   ]
  },
  {
   "cell_type": "code",
   "execution_count": 34,
   "metadata": {
    "collapsed": true
   },
   "outputs": [],
   "source": [
    "raw_data_dirs=[\"./populated_data/populated_true_genotypes_5_5_0.01_20.txt\",\n",
    "               \"./populated_data/populated_true_genotypes_5_5_0.05_20.txt\",\n",
    "               \"./populated_data/populated_true_genotypes_5_5_0.1_20.txt\",\n",
    "               \"./populated_data/populated_true_genotypes_10_10_0.01_100.txt\",\n",
    "               \"./populated_data/populated_true_genotypes_10_10_0.05_100.txt\",\n",
    "               \"./populated_data/populated_true_genotypes_10_10_0.1_100.txt\",\n",
    "               \"./populated_data/populated_true_genotypes_20_20_0.01_1000.txt\",\n",
    "               \"./populated_data/populated_true_genotypes_20_20_0.05_1000.txt\",\n",
    "               \"./populated_data/populated_true_genotypes_20_20_0.1_1000.txt\"]"
   ]
  },
  {
   "cell_type": "code",
   "execution_count": 35,
   "metadata": {
    "collapsed": true
   },
   "outputs": [],
   "source": [
    "true_genotype_dirs=[\"./true_genotypes/true_genotypes_5_5_0.01_20.txt\",\n",
    "               \"./true_genotypes/true_genotypes_5_5_0.05_20.txt\",\n",
    "               \"./true_genotypes/true_genotypes_5_5_0.1_20.txt\",\n",
    "               \"./true_genotypes/true_genotypes_10_10_0.01_100.txt\",\n",
    "               \"./true_genotypes/true_genotypes_10_10_0.05_100.txt\",\n",
    "               \"./true_genotypes/true_genotypes_10_10_0.1_100.txt\",\n",
    "               \"./true_genotypes/true_genotypes_20_20_0.01_1000.txt\",\n",
    "               \"./true_genotypes/true_genotypes_20_20_0.05_1000.txt\",\n",
    "               \"./true_genotypes/true_genotypes_20_20_0.1_1000.txt\"]"
   ]
  },
  {
   "cell_type": "code",
   "execution_count": 36,
   "metadata": {
    "collapsed": true
   },
   "outputs": [],
   "source": [
    "clustering_methods = [\"k_means\"]\n"
   ]
  },
  {
   "cell_type": "code",
   "execution_count": 37,
   "metadata": {
    "collapsed": true
   },
   "outputs": [],
   "source": [
    "tree_methods = [\"nj\",\"upgma\"]\n"
   ]
  },
  {
   "cell_type": "code",
   "execution_count": 38,
   "metadata": {
    "collapsed": true
   },
   "outputs": [],
   "source": [
    "numbers_of_clusters=[5,5,5,10,10,10,20,20,20]\n"
   ]
  },
  {
   "cell_type": "code",
   "execution_count": 39,
   "metadata": {
    "collapsed": true
   },
   "outputs": [],
   "source": [
    "vector_sizes = [5,5,5,10,10,10,20,20,20]"
   ]
  },
  {
   "cell_type": "code",
   "execution_count": 40,
   "metadata": {
    "collapsed": true
   },
   "outputs": [],
   "source": [
    "predicted_genotype_dirs=[\"./predicted_genotypes/predicted_genotypes_5_5_0.01_20.txt\",\n",
    "               \"./predicted_genotypes/predicted_genotypes_5_5_0.05_20.txt\",\n",
    "               \"./predicted_genotypes/predicted_genotypes_5_5_0.1_20.txt\",\n",
    "               \"./predicted_genotypes/predicted_genotypes_10_10_0.01_100.txt\",\n",
    "               \"./predicted_genotypes/predicted_genotypes_10_10_0.05_100.txt\",\n",
    "               \"./predicted_genotypes/predicted_genotypes_10_10_0.1_100.txt\",\n",
    "               \"./predicted_genotypes/predicted_genotypes_20_20_0.01_1000.txt\",\n",
    "               \"./predicted_genotypes/predicted_genotypes_20_20_0.05_1000.txt\",\n",
    "               \"./predicted_genotypes/predicted_genotypes_20_20_0.1_1000.txt\"]"
   ]
  },
  {
   "cell_type": "code",
   "execution_count": 41,
   "metadata": {
    "collapsed": true
   },
   "outputs": [],
   "source": [
    "adjusted_true_genotype_dirs=[\"/home/laurynas/workspace/individual_project/simulated_data/adjusted_true_genotypes_5_5_0.01_20.txt\",\n",
    "               \"./adjusted/adjusted_true_genotypes_5_5_0.05_20.txt\",\n",
    "               \"./adjusted/adjusted_true_genotypes_5_5_0.1_20.txt\",\n",
    "               \"./adjusted/adjusted_true_genotypes_10_10_0.01_100.txt\",\n",
    "               \"./adjusted/adjusted_true_genotypes_10_10_0.05_100.txt\",\n",
    "               \"./adjusted/adjusted_true_genotypes_10_10_0.1_100.txt\",\n",
    "               \"./adjusted/adjusted_true_genotypes_20_20_0.01_1000.txt\",\n",
    "               \"./adjusted/adjusted_true_genotypes_20_20_0.05_1000.txt\",\n",
    "               \"./adjusted/adjusted_true_genotypes_20_20_0.1_1000.txt\"]"
   ]
  },
  {
   "cell_type": "code",
   "execution_count": 42,
   "metadata": {
    "collapsed": true
   },
   "outputs": [],
   "source": [
    "iterations = 1"
   ]
  },
  {
   "cell_type": "code",
   "execution_count": 43,
   "metadata": {
    "collapsed": false
   },
   "outputs": [
    {
     "name": "stdout",
     "output_type": "stream",
     "text": [
      "----New Clustering method  k_means  ----------------\n",
      "$$$$$$ Clustering  k_means   Tree method  nj  $$$$$$$$\n",
      "===============================================\n",
      "Raw_data_dir:  ./populated_data/populated_true_genotypes_5_5_0.01_20.txt\n"
     ]
    },
    {
     "ename": "AttributeError",
     "evalue": "'list' object has no attribute 'items'",
     "output_type": "error",
     "traceback": [
      "\u001b[0;31m---------------------------------------------------------------------------\u001b[0m",
      "\u001b[0;31mAttributeError\u001b[0m                            Traceback (most recent call last)",
      "\u001b[0;32m<ipython-input-43-a69e4c6d941f>\u001b[0m in \u001b[0;36m<module>\u001b[0;34m()\u001b[0m\n\u001b[1;32m     13\u001b[0m                                 write_adjusted_true_gen_dir, write_predicted_gen_dir, max_hamming_distance=2)\n\u001b[1;32m     14\u001b[0m \u001b[0;34m\u001b[0m\u001b[0m\n\u001b[0;32m---> 15\u001b[0;31m                 \u001b[0mresult\u001b[0m \u001b[0;34m=\u001b[0m \u001b[0mpipe\u001b[0m\u001b[0;34m.\u001b[0m\u001b[0mrun_pipe\u001b[0m\u001b[0;34m(\u001b[0m\u001b[0;34m)\u001b[0m\u001b[0;34m\u001b[0m\u001b[0m\n\u001b[0m\u001b[1;32m     16\u001b[0m                 \u001b[0;32mprint\u001b[0m \u001b[0mresult\u001b[0m\u001b[0;34m\u001b[0m\u001b[0m\n\u001b[1;32m     17\u001b[0m                 \u001b[0maveraged_results\u001b[0m\u001b[0;34m.\u001b[0m\u001b[0mappend\u001b[0m\u001b[0;34m(\u001b[0m\u001b[0mresult\u001b[0m\u001b[0;34m)\u001b[0m\u001b[0;34m\u001b[0m\u001b[0m\n",
      "\u001b[0;32m/home/laurynas/workspace/individual_project/ipython_notebooks/tree_eval_methods.py\u001b[0m in \u001b[0;36mrun_pipe\u001b[0;34m(self)\u001b[0m\n\u001b[1;32m     38\u001b[0m             \u001b[0mself\u001b[0m\u001b[0;34m.\u001b[0m\u001b[0m_do_bmm\u001b[0m\u001b[0;34m(\u001b[0m\u001b[0;34m)\u001b[0m\u001b[0;34m\u001b[0m\u001b[0m\n\u001b[1;32m     39\u001b[0m \u001b[0;34m\u001b[0m\u001b[0m\n\u001b[0;32m---> 40\u001b[0;31m         \u001b[0mself\u001b[0m\u001b[0;34m.\u001b[0m\u001b[0m_get_non_unique_genotypes\u001b[0m\u001b[0;34m(\u001b[0m\u001b[0;34m)\u001b[0m\u001b[0;34m\u001b[0m\u001b[0m\n\u001b[0m\u001b[1;32m     41\u001b[0m         \u001b[0mself\u001b[0m\u001b[0;34m.\u001b[0m\u001b[0m_load_true_genotypes\u001b[0m\u001b[0;34m(\u001b[0m\u001b[0;34m)\u001b[0m\u001b[0;34m\u001b[0m\u001b[0m\n\u001b[1;32m     42\u001b[0m \u001b[0;34m\u001b[0m\u001b[0m\n",
      "\u001b[0;32m/home/laurynas/workspace/individual_project/ipython_notebooks/tree_eval_methods.py\u001b[0m in \u001b[0;36m_get_non_unique_genotypes\u001b[0;34m(self, delimiter)\u001b[0m\n\u001b[1;32m    328\u001b[0m     \u001b[0;32mdef\u001b[0m \u001b[0m_get_non_unique_genotypes\u001b[0m\u001b[0;34m(\u001b[0m\u001b[0mself\u001b[0m\u001b[0;34m,\u001b[0m \u001b[0mdelimiter\u001b[0m\u001b[0;34m=\u001b[0m\u001b[0;34m\",\"\u001b[0m\u001b[0;34m)\u001b[0m\u001b[0;34m:\u001b[0m\u001b[0;34m\u001b[0m\u001b[0m\n\u001b[1;32m    329\u001b[0m         \u001b[0mgenotype\u001b[0m \u001b[0;34m=\u001b[0m \u001b[0;34m[\u001b[0m\u001b[0;34m]\u001b[0m\u001b[0;34m\u001b[0m\u001b[0m\n\u001b[0;32m--> 330\u001b[0;31m         \u001b[0;32mfor\u001b[0m \u001b[0mkey\u001b[0m\u001b[0;34m,\u001b[0m \u001b[0mvalues\u001b[0m \u001b[0;32min\u001b[0m \u001b[0mself\u001b[0m\u001b[0;34m.\u001b[0m\u001b[0m_clustered_data_dict\u001b[0m\u001b[0;34m[\u001b[0m\u001b[0;36m0\u001b[0m\u001b[0;34m]\u001b[0m\u001b[0;34m.\u001b[0m\u001b[0mitems\u001b[0m\u001b[0;34m(\u001b[0m\u001b[0;34m)\u001b[0m\u001b[0;34m:\u001b[0m\u001b[0;34m\u001b[0m\u001b[0m\n\u001b[0m\u001b[1;32m    331\u001b[0m             \u001b[0mgenotype_sum\u001b[0m \u001b[0;34m=\u001b[0m \u001b[0mnp\u001b[0m\u001b[0;34m.\u001b[0m\u001b[0marray\u001b[0m\u001b[0;34m(\u001b[0m\u001b[0mnp\u001b[0m\u001b[0;34m.\u001b[0m\u001b[0mzeros\u001b[0m\u001b[0;34m(\u001b[0m\u001b[0mself\u001b[0m\u001b[0;34m.\u001b[0m\u001b[0mvector_size\u001b[0m\u001b[0;34m)\u001b[0m\u001b[0;34m)\u001b[0m\u001b[0;34m\u001b[0m\u001b[0m\n\u001b[1;32m    332\u001b[0m             \u001b[0;32mfor\u001b[0m \u001b[0msample\u001b[0m \u001b[0;32min\u001b[0m \u001b[0mvalues\u001b[0m\u001b[0;34m:\u001b[0m\u001b[0;34m\u001b[0m\u001b[0m\n",
      "\u001b[0;31mAttributeError\u001b[0m: 'list' object has no attribute 'items'"
     ]
    }
   ],
   "source": [
    "for clustering_method in clustering_methods:\n",
    "    print \"----New Clustering method \", clustering_method, \" ----------------\"\n",
    "    for tree_method in tree_methods:\n",
    "        print \"$$$$$$ Clustering \", clustering_method, \"  Tree method \", tree_method,\" $$$$$$$$\"\n",
    "        for raw_data_dir, true_genotype_dir,write_adjusted_true_gen_dir,write_predicted_gen_dir, no_clusters, vector_size in zip(raw_data_dirs, true_genotype_dirs,adjusted_true_genotype_dirs,predicted_genotype_dirs, numbers_of_clusters, vector_sizes):\n",
    "            print \"===============================================\"\n",
    "            print \"Raw_data_dir: \", str(raw_data_dir)\n",
    "            averaged_results = []\n",
    "            for i in xrange(iterations):\n",
    "\n",
    "                pipe = tree_eval_methods.Pipeline(raw_data_dir, true_genotype_dir, clustering_method, tree_method, no_clusters,\n",
    "                                vector_size,\n",
    "                                write_adjusted_true_gen_dir, write_predicted_gen_dir, max_hamming_distance=2)\n",
    "\n",
    "                result = pipe.run_pipe()\n",
    "                print result\n",
    "                averaged_results.append(result)\n",
    "\n",
    "            print \"Averaged Distance: \\n\", np.mean(averaged_results)\n",
    "            print \"STD : \\n\", np.std(averaged_results)\n",
    "\n",
    "            print \"===============================================\""
   ]
  },
  {
   "cell_type": "code",
   "execution_count": null,
   "metadata": {
    "collapsed": true
   },
   "outputs": [],
   "source": []
  },
  {
   "cell_type": "code",
   "execution_count": null,
   "metadata": {
    "collapsed": true
   },
   "outputs": [],
   "source": []
  }
 ],
 "metadata": {
  "anaconda-cloud": {},
  "kernelspec": {
   "display_name": "Python [default]",
   "language": "python",
   "name": "python2"
  },
  "language_info": {
   "codemirror_mode": {
    "name": "ipython",
    "version": 2
   },
   "file_extension": ".py",
   "mimetype": "text/x-python",
   "name": "python",
   "nbconvert_exporter": "python",
   "pygments_lexer": "ipython2",
   "version": "2.7.12"
  }
 },
 "nbformat": 4,
 "nbformat_minor": 1
}
