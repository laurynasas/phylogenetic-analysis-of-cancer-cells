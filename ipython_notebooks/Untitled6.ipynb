{
 "cells": [
  {
   "cell_type": "code",
   "execution_count": 13,
   "metadata": {
    "collapsed": true
   },
   "outputs": [],
   "source": [
    "import helpers\n",
    "import numpy as np\n",
    "from scipy.cluster.hierarchy import fcluster, linkage\n",
    "from sklearn.metrics import adjusted_rand_score,silhouette_score\n",
    "from k_medoid_clustering import KMedoid\n",
    "from bernoulli_mixture_model import BMM\n",
    "from Bio import AlignIO\n",
    "from Bio.Phylo import to_networkx, draw_ascii\n",
    "from Bio.Phylo.TreeConstruction import ParsimonyTreeConstructor, ParsimonyScorer, NNITreeSearcher\n",
    "from Bio.Phylo.TreeConstruction import DistanceCalculator, DistanceTreeConstructor, ParsimonyTreeConstructor, ParsimonyScorer, NNITreeSearcher\n",
    "from Bio import Phylo"
   ]
  },
  {
   "cell_type": "code",
   "execution_count": 14,
   "metadata": {
    "collapsed": true
   },
   "outputs": [],
   "source": [
    "raw_scs_data = \"/home/laurynas/workspace/individual_project/data/hou/snv.csv\""
   ]
  },
  {
   "cell_type": "code",
   "execution_count": 15,
   "metadata": {
    "collapsed": true
   },
   "outputs": [],
   "source": [
    "helper = helpers.Helper()"
   ]
  },
  {
   "cell_type": "code",
   "execution_count": 16,
   "metadata": {
    "collapsed": true
   },
   "outputs": [],
   "source": [
    "number_of_clusters = 6"
   ]
  },
  {
   "cell_type": "code",
   "execution_count": 17,
   "metadata": {
    "collapsed": true
   },
   "outputs": [],
   "source": [
    "number_of_iterations = 15"
   ]
  },
  {
   "cell_type": "code",
   "execution_count": 18,
   "metadata": {
    "collapsed": false
   },
   "outputs": [
    {
     "name": "stdout",
     "output_type": "stream",
     "text": [
      "====CLUSTER 0 =====\n",
      "\"LC.82\"\n",
      "\"LC.9\"\n",
      "\"LC.45\"\n",
      "\"LC.T1\"\n",
      "\"LC.72\"\n",
      "\"LC.78\"\n",
      "\"LC.26\"\n",
      "\"LC.25\"\n",
      "\"LC.63\"\n",
      "\"LC.6\"\n",
      "\"LC.69\"\n",
      "\"LC.61\"\n",
      "\"LC.90\"\n",
      "\"LC.3\"\n",
      "\"LC.60\"\n",
      "\"LC.47\"\n",
      "\"LC.52\"\n",
      "\"LC.54\"\n",
      "\"LC.18\"\n",
      "\"LC.87\"\n",
      "\"LC.48\"\n",
      "\"LC.89\"\n",
      "\"LC.94\"\n",
      "\"LC.20\"\n",
      "\"LC.66\"\n",
      "\"LC.79\"\n",
      "\"LC.16\"\n",
      "\"LC.29\"\n",
      "\"LC.5\"\n",
      "\"LC.80\"\n",
      "\"LC.19\"\n",
      "\"LC.40\"\n",
      "\"LC.70\"\n",
      "\"LC.37\"\n",
      "\"LC.24\"\n",
      "\"LC.44\"\n",
      "\"LC.30\"\n",
      "\"LC.97\"\n",
      "\n",
      "\"LC.49\"\n",
      "\"LC.74\"\n",
      "\"LC.8\"\n",
      "\"LC.93\"\n",
      "\"LC.86\"\n",
      "\"LC.43\"\n",
      "\"LC.1\"\n",
      "\"LC.100\"\n",
      "\"LC.22\"\n",
      "\"LC.91\"\n",
      "\"LC.56\"\n",
      "\"LC.50\"\n",
      "====CLUSTER 1 =====\n",
      "\"LC.41\"\n",
      "\"LN.T1\"\n",
      "====CLUSTER 2 =====\n",
      "\"LC.36\"\n",
      "\"LC.31\"\n",
      "\"LC.88\"\n",
      "====CLUSTER 3 =====\n",
      "\"LC.2\"\n",
      "\"LC.76\"\n",
      "====CLUSTER 4 =====\n",
      "\"LC.73\"\n",
      "====CLUSTER 5 =====\n",
      "\"LC.12\"\n",
      "\"LC.7\"\n",
      "getting genotypes:  0 50\n",
      "getting genotypes:  1 2\n",
      "getting genotypes:  2 3\n",
      "getting genotypes:  3 2\n",
      "getting genotypes:  4 1\n",
      "getting genotypes:  5 2\n",
      "  __________________________________________________________________ Cluster 1\n",
      " |\n",
      " |                               _____________________ Cluster 4\n",
      " |                             _|\n",
      "_|                        ____| |______________________ Cluster 2\n",
      " |                       |    |\n",
      " |            ___________|    |______________ Cluster 0\n",
      " |           |           |\n",
      " |___________|           |________________________ Cluster 5\n",
      "             |\n",
      "             |________________________ Cluster 3\n",
      "\n"
     ]
    }
   ],
   "source": [
    "unique_rows, full_or_data, full_info = helper.process_single_cell_data_file(raw_scs_data)\n",
    "bmm = BMM(k_clusters=number_of_clusters\n",
    "             , unique_rows=unique_rows, full_data_dict=full_or_data, full_info=full_info,\n",
    "          number_of_iterations=number_of_iterations)\n",
    "data, predicted_labels = bmm.do_clustering()\n",
    "predicted_labels = np.asarray(predicted_labels)\n",
    "\n",
    "for key in data.keys():\n",
    "    print \"====CLUSTER\",key,\"=====\"\n",
    "    for vector in data[key]:\n",
    "        for instance in full_info:\n",
    "            if instance.vector == vector:\n",
    "                print instance.cluster_label\n",
    "                \n",
    "ready_gen, labels_in_clusters = helper.get_single_cell_genotypes(data, full_or_data)\n",
    "\n",
    "write_dir = \"./single_cell/cluster_genotypes.phy\"\n",
    "target = open(write_dir, 'w+')\n",
    "\n",
    "target.write(str(len(ready_gen)) + \" \" + str(len(ready_gen[0])) + \"\\n\")\n",
    "\n",
    "for index, el in enumerate(ready_gen):\n",
    "    target.write((\"Cluster \"+str(index)).ljust(10) + el.replace(\"NA\",\"N\") + \"\\n\")\n",
    "target.close()\n",
    "\n",
    "aln = AlignIO.read(write_dir, 'phylip')\n",
    "dtc = DistanceTreeConstructor(DistanceCalculator(\"identity\"),\n",
    "                              \"nj\")\n",
    "nj_tree = dtc.build_tree(aln)\n",
    "scorer = ParsimonyScorer()\n",
    "searcher = NNITreeSearcher(scorer)\n",
    "constructor_parsimony = ParsimonyTreeConstructor(searcher, starting_tree = nj_tree)\n",
    "pars_tree = constructor_parsimony.build_tree(aln)\n",
    "draw_ascii(pars_tree)\n",
    "\n"
   ]
  }
 ],
 "metadata": {
  "kernelspec": {
   "display_name": "Python [default]",
   "language": "python",
   "name": "python2"
  },
  "language_info": {
   "codemirror_mode": {
    "name": "ipython",
    "version": 2
   },
   "file_extension": ".py",
   "mimetype": "text/x-python",
   "name": "python",
   "nbconvert_exporter": "python",
   "pygments_lexer": "ipython2",
   "version": "2.7.12"
  }
 },
 "nbformat": 4,
 "nbformat_minor": 1
}
