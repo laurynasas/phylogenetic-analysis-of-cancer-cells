{
 "cells": [
  {
   "cell_type": "code",
   "execution_count": 1,
   "metadata": {
    "collapsed": false
   },
   "outputs": [],
   "source": [
    "import helpers\n",
    "import numpy as np\n",
    "from scipy.cluster.hierarchy import fcluster, linkage\n",
    "from sklearn.metrics import adjusted_rand_score,silhouette_score\n",
    "from k_medoid_clustering import KMedoid\n",
    "from bernoulli_mixture_model import BMM\n",
    "import timeit"
   ]
  },
  {
   "cell_type": "code",
   "execution_count": 2,
   "metadata": {
    "collapsed": true
   },
   "outputs": [],
   "source": [
    "raw_scs_data = \"/home/laurynas/workspace/individual_project/data/hou/snv.csv\""
   ]
  },
  {
   "cell_type": "code",
   "execution_count": 3,
   "metadata": {
    "collapsed": true
   },
   "outputs": [],
   "source": [
    "helper = helpers.Helper()"
   ]
  },
  {
   "cell_type": "code",
   "execution_count": 4,
   "metadata": {
    "collapsed": true
   },
   "outputs": [],
   "source": [
    "max_number_of_clusters = 15"
   ]
  },
  {
   "cell_type": "code",
   "execution_count": null,
   "metadata": {
    "collapsed": true
   },
   "outputs": [],
   "source": [
    "number_of_iterations = 15"
   ]
  },
  {
   "cell_type": "code",
   "execution_count": null,
   "metadata": {
    "collapsed": false
   },
   "outputs": [
    {
     "name": "stdout",
     "output_type": "stream",
     "text": [
      "number of clusters  | Silhouette score\n",
      "2                   -0.00644584376616\n",
      "3                   0.000701778788569\n",
      "4                   -0.0407925254202\n",
      "5                   -0.0118054531547\n",
      "6                   -0.157393127429\n",
      "7                   -0.153391212973\n"
     ]
    }
   ],
   "source": [
    "unique_rows, full_or_data, full_info = helper.process_single_cell_data_file(raw_scs_data)\n",
    "print \"number of clusters  | Silhouette score\"\n",
    "for i in range(2,max_number_of_clusters):\n",
    "\n",
    "    bmm = BMM(k_clusters=i\n",
    "                 , unique_rows=unique_rows, full_data_dict=full_or_data, full_info=full_info,\n",
    "              number_of_iterations=number_of_iterations)\n",
    "    data, predicted_labels = bmm.do_clustering()\n",
    "    predicted_labels = np.asarray(predicted_labels)\n",
    "    distance_matrix = np.matrix(helper.find_distance_matrix(unique_rows))\n",
    "\n",
    "    print str(i).ljust(20) + str(silhouette_score(distance_matrix, predicted_labels, metric=\"precomputed\"))"
   ]
  }
 ],
 "metadata": {
  "kernelspec": {
   "display_name": "analysis",
   "language": "python",
   "name": "analysis"
  },
  "language_info": {
   "codemirror_mode": {
    "name": "ipython",
    "version": 2
   },
   "file_extension": ".py",
   "mimetype": "text/x-python",
   "name": "python",
   "nbconvert_exporter": "python",
   "pygments_lexer": "ipython2",
   "version": "2.7.6"
  }
 },
 "nbformat": 4,
 "nbformat_minor": 1
}
