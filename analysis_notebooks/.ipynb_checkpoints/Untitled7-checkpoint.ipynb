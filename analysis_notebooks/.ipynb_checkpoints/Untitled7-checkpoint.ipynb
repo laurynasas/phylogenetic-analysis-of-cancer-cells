{
 "cells": [
  {
   "cell_type": "code",
   "execution_count": 19,
   "metadata": {
    "collapsed": true
   },
   "outputs": [],
   "source": [
    "import helpers\n",
    "import numpy as np\n",
    "from scipy.cluster.hierarchy import fcluster, linkage\n",
    "from sklearn.metrics import adjusted_rand_score,silhouette_score\n",
    "from k_medoid_clustering import KMedoid\n",
    "from bernoulli_mixture_model import BMM\n",
    "import timeit\n",
    "from Bio import AlignIO\n",
    "from Bio.Phylo import to_networkx, draw_ascii\n",
    "from Bio.Phylo.TreeConstruction import ParsimonyTreeConstructor, ParsimonyScorer, NNITreeSearcher\n",
    "from Bio.Phylo.TreeConstruction import DistanceCalculator, DistanceTreeConstructor, ParsimonyTreeConstructor, ParsimonyScorer, NNITreeSearcher\n",
    "from Bio import Phylo"
   ]
  },
  {
   "cell_type": "code",
   "execution_count": 20,
   "metadata": {
    "collapsed": true
   },
   "outputs": [],
   "source": [
    "raw_scs_data = \"/home/laurynas/workspace/individual_project/data/hou/snv.csv\""
   ]
  },
  {
   "cell_type": "code",
   "execution_count": 21,
   "metadata": {
    "collapsed": true
   },
   "outputs": [],
   "source": [
    "helper = helpers.Helper()"
   ]
  },
  {
   "cell_type": "code",
   "execution_count": 22,
   "metadata": {
    "collapsed": true
   },
   "outputs": [],
   "source": [
    "number_of_clusters = 6"
   ]
  },
  {
   "cell_type": "code",
   "execution_count": 23,
   "metadata": {
    "collapsed": true
   },
   "outputs": [],
   "source": [
    "number_of_iterations = 15"
   ]
  },
  {
   "cell_type": "code",
   "execution_count": 24,
   "metadata": {
    "collapsed": false
   },
   "outputs": [
    {
     "name": "stdout",
     "output_type": "stream",
     "text": [
      "getting genotypes:  0 50\n",
      "getting genotypes:  1 2\n",
      "getting genotypes:  2 2\n",
      "getting genotypes:  3 2\n",
      "getting genotypes:  4 2\n",
      "getting genotypes:  5 2\n",
      "  __________________________________________________________________ Cluster 4\n",
      " |\n",
      " |                   __________________________________ Cluster 5\n",
      "_|          ________|\n",
      " |         |        |  ___________________ Cluster 0\n",
      " |         |        |_|\n",
      " |_________|          |    ______________________________ Cluster 1\n",
      "           |          |___|\n",
      "           |              |_________________________________ Cluster 2\n",
      "           |\n",
      "           |_________________________________ Cluster 3\n",
      "\n"
     ]
    },
    {
     "ename": "MissingPythonDependencyError",
     "evalue": "Install PyGraphviz or pydot if you want to use draw_graphviz.",
     "output_type": "error",
     "traceback": [
      "\u001b[0;31m---------------------------------------------------------------------------\u001b[0m",
      "\u001b[0;31mMissingPythonDependencyError\u001b[0m              Traceback (most recent call last)",
      "\u001b[0;32m<ipython-input-24-74befdac36e6>\u001b[0m in \u001b[0;36m<module>\u001b[0;34m()\u001b[0m\n\u001b[1;32m     28\u001b[0m \u001b[0mdraw_ascii\u001b[0m\u001b[0;34m(\u001b[0m\u001b[0mpars_tree\u001b[0m\u001b[0;34m)\u001b[0m\u001b[0;34m\u001b[0m\u001b[0m\n\u001b[1;32m     29\u001b[0m \u001b[0;34m\u001b[0m\u001b[0m\n\u001b[0;32m---> 30\u001b[0;31m \u001b[0mPhylo\u001b[0m\u001b[0;34m.\u001b[0m\u001b[0mdraw_graphviz\u001b[0m\u001b[0;34m(\u001b[0m\u001b[0mpars_tree\u001b[0m\u001b[0;34m,\u001b[0m \u001b[0mprog\u001b[0m\u001b[0;34m=\u001b[0m\u001b[0;34m\"dot\"\u001b[0m\u001b[0;34m)\u001b[0m\u001b[0;34m\u001b[0m\u001b[0m\n\u001b[0m\u001b[1;32m     31\u001b[0m \u001b[0;34m\u001b[0m\u001b[0m\n\u001b[1;32m     32\u001b[0m \u001b[0mplt\u001b[0m\u001b[0;34m.\u001b[0m\u001b[0mshow\u001b[0m\u001b[0;34m(\u001b[0m\u001b[0;34m)\u001b[0m\u001b[0;34m\u001b[0m\u001b[0m\n",
      "\u001b[0;32m/home/laurynas/anaconda2/lib/python2.7/site-packages/Bio/Phylo/_utils.pyc\u001b[0m in \u001b[0;36mdraw_graphviz\u001b[0;34m(tree, label_func, prog, args, node_color, **kwargs)\u001b[0m\n\u001b[1;32m    153\u001b[0m     \u001b[0;32mexcept\u001b[0m \u001b[0mImportError\u001b[0m\u001b[0;34m:\u001b[0m\u001b[0;34m\u001b[0m\u001b[0m\n\u001b[1;32m    154\u001b[0m         raise MissingPythonDependencyError(\n\u001b[0;32m--> 155\u001b[0;31m             \"Install PyGraphviz or pydot if you want to use draw_graphviz.\")\n\u001b[0m\u001b[1;32m    156\u001b[0m \u001b[0;34m\u001b[0m\u001b[0m\n\u001b[1;32m    157\u001b[0m     \u001b[0;32mdef\u001b[0m \u001b[0mget_label_mapping\u001b[0m\u001b[0;34m(\u001b[0m\u001b[0mG\u001b[0m\u001b[0;34m,\u001b[0m \u001b[0mselection\u001b[0m\u001b[0;34m)\u001b[0m\u001b[0;34m:\u001b[0m\u001b[0;34m\u001b[0m\u001b[0m\n",
      "\u001b[0;31mMissingPythonDependencyError\u001b[0m: Install PyGraphviz or pydot if you want to use draw_graphviz."
     ]
    }
   ],
   "source": [
    "unique_rows, full_or_data, full_info = helper.process_single_cell_data_file(raw_scs_data)\n",
    "# print full_or_data\n",
    "bmm = BMM(k_clusters=number_of_clusters\n",
    "             , unique_rows=unique_rows, full_data_dict=full_or_data, full_info=full_info,\n",
    "          number_of_iterations=number_of_iterations)\n",
    "data, predicted_labels = bmm.do_clustering()\n",
    "predicted_labels = np.asarray(predicted_labels)\n",
    "\n",
    "ready_gen, labels_in_clusters = helper.get_single_cell_genotypes(data, full_or_data)\n",
    "\n",
    "write_dir = \"./single_cell/cluster_genotypes.phy\"\n",
    "target = open(write_dir, 'w+')\n",
    "\n",
    "target.write(str(len(ready_gen)) + \" \" + str(len(ready_gen[0])) + \"\\n\")\n",
    "\n",
    "for index, el in enumerate(ready_gen):\n",
    "    target.write((\"Cluster \"+str(index)).ljust(10) + el.replace(\"NA\",\"N\") + \"\\n\")\n",
    "target.close()\n",
    "\n",
    "aln = AlignIO.read(write_dir, 'phylip')\n",
    "dtc = DistanceTreeConstructor(DistanceCalculator(\"identity\"),\n",
    "                              \"nj\")\n",
    "nj_tree = dtc.build_tree(aln)\n",
    "scorer = ParsimonyScorer()\n",
    "searcher = NNITreeSearcher(scorer)\n",
    "constructor_parsimony = ParsimonyTreeConstructor(searcher, starting_tree = nj_tree)\n",
    "pars_tree = constructor_parsimony.build_tree(aln)\n",
    "draw_ascii(pars_tree)\n",
    "\n",
    "Phylo.draw_graphviz(pars_tree, prog=\"dot\")\n",
    "\n",
    "plt.show()"
   ]
  }
 ],
 "metadata": {
  "anaconda-cloud": {},
  "kernelspec": {
   "display_name": "Python 2",
   "language": "python",
   "name": "python2"
  },
  "language_info": {
   "codemirror_mode": {
    "name": "ipython",
    "version": 2
   },
   "file_extension": ".py",
   "mimetype": "text/x-python",
   "name": "python",
   "nbconvert_exporter": "python",
   "pygments_lexer": "ipython2",
   "version": "2.7.6"
  }
 },
 "nbformat": 4,
 "nbformat_minor": 1
}
