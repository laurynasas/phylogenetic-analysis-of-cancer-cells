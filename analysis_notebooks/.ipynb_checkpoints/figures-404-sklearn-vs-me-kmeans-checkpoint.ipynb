{
 "cells": [
  {
   "cell_type": "markdown",
   "metadata": {},
   "source": [
    "This notebook will focus on data showed in Figure 4.4 where we compare the performance of my implementation of k-medoids vs k-means implemented by sklearn in terms of Silhouette score achieved."
   ]
  },
  {
   "cell_type": "code",
   "execution_count": 16,
   "metadata": {
    "collapsed": false
   },
   "outputs": [],
   "source": [
    "import helpers\n",
    "import numpy as np\n",
    "from bernoulli_mixture_model import BMM\n",
    "import timeit\n",
    "from sklearn.metrics import adjusted_rand_score,silhouette_score\n",
    "from k_medoid_clustering import KMedoid\n"
   ]
  },
  {
   "cell_type": "markdown",
   "metadata": {},
   "source": [
    "Helper contains widely used methods that we will utilise"
   ]
  },
  {
   "cell_type": "code",
   "execution_count": 17,
   "metadata": {
    "collapsed": true
   },
   "outputs": [],
   "source": [
    "helper = helpers.Helper()"
   ]
  },
  {
   "cell_type": "markdown",
   "metadata": {},
   "source": [
    "Please define the raw data file obtained through simulation or use the existing one."
   ]
  },
  {
   "cell_type": "code",
   "execution_count": 18,
   "metadata": {
    "collapsed": true
   },
   "outputs": [],
   "source": [
    "raw_data_dir = \"./populated_data/populated_true_genotypes_10_10_0.01_100.txt\"\n"
   ]
  },
  {
   "cell_type": "markdown",
   "metadata": {},
   "source": [
    "How many clusters do we want to cluster data into and the size of mutation vector"
   ]
  },
  {
   "cell_type": "code",
   "execution_count": 19,
   "metadata": {
    "collapsed": true
   },
   "outputs": [],
   "source": [
    "no_clusters = 10\n",
    "vector_size = 10"
   ]
  },
  {
   "cell_type": "markdown",
   "metadata": {},
   "source": [
    "Main method to perform clustering using sklearn and k-medoids algorithm using our KMedoid wrapper class."
   ]
  },
  {
   "cell_type": "code",
   "execution_count": 20,
   "metadata": {
    "collapsed": false
   },
   "outputs": [
    {
     "name": "stdout",
     "output_type": "stream",
     "text": [
      "sk_learn Silhouette score  |my implementation Silhouette score\n",
      "0.778484278068              0.116105943996\n"
     ]
    }
   ],
   "source": [
    "unique_rows, full_data_dict, full_info = helper.read_simulated_data_file(raw_data_dir)\n",
    "distance_matrix = np.matrix(helper.find_distance_matrix(unique_rows))\n",
    "\n",
    "predefined_kwargs = {\"number_of_clusters\": no_clusters, \"unique_rows\": unique_rows,\n",
    "                     \"full_data_dict\": full_data_dict, \"full_info\": full_info,\n",
    "                     \"vector_size\": vector_size}\n",
    "\n",
    "k_means_instance = KMedoid(**predefined_kwargs)\n",
    "clustered_dict = k_means_instance.do_k_means_using_sklearn()\n",
    "predicted_labels_sk_learn = np.asarray(k_means_instance.get_sklearn_predicted_labels())\n",
    "sil_sklearn = silhouette_score(distance_matrix,predicted_labels_sk_learn, metric=\"precomputed\")\n",
    "\n",
    "M,C = k_means_instance.do_k_medoid_my_clustering()\n",
    "predicted_labels_my= np.asarray(k_means_instance.get_my_predicted_labels(C))\n",
    "sil_my = silhouette_score(distance_matrix,predicted_labels_my, metric=\"precomputed\")\n",
    "\n",
    "print \"sk_learn Silhouette score  |my implementation Silhouette score\"\n",
    "print str(sil_sklearn).ljust(28) + str(sil_my)\n"
   ]
  }
 ],
 "metadata": {
  "kernelspec": {
   "display_name": "Python 2",
   "language": "python",
   "name": "python2"
  },
  "language_info": {
   "codemirror_mode": {
    "name": "ipython",
    "version": 2
   },
   "file_extension": ".py",
   "mimetype": "text/x-python",
   "name": "python",
   "nbconvert_exporter": "python",
   "pygments_lexer": "ipython2",
   "version": "2.7.6"
  }
 },
 "nbformat": 4,
 "nbformat_minor": 1
}
