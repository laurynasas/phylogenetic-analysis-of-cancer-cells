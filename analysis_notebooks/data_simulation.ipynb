{
 "cells": [
  {
   "cell_type": "markdown",
   "metadata": {},
   "source": [
    "This is the notebook which will help you to simulate data using our implementation"
   ]
  },
  {
   "cell_type": "code",
   "execution_count": 44,
   "metadata": {
    "collapsed": false
   },
   "outputs": [],
   "source": [
    "import simulate_data as simulate"
   ]
  },
  {
   "cell_type": "markdown",
   "metadata": {},
   "source": [
    "First we need to define the parameters, where k_clusters is number of clusters to be created, len_vectors is the legnth of mutation vector, error_perct is the random error to be introduced when populating clusters, dataset_size is the size of overall dataset."
   ]
  },
  {
   "cell_type": "code",
   "execution_count": 45,
   "metadata": {
    "collapsed": true
   },
   "outputs": [],
   "source": [
    "k_clusters = 20\n",
    "len_vectors = 20\n",
    "error_perct = 0.1\n",
    "dataset_size = 1000"
   ]
  },
  {
   "cell_type": "markdown",
   "metadata": {},
   "source": [
    "Next, we want to generate true genotypes from which the clusters wil lbe populated"
   ]
  },
  {
   "cell_type": "code",
   "execution_count": 46,
   "metadata": {
    "collapsed": true
   },
   "outputs": [],
   "source": [
    "original_clusters = simulate.generate_original_clusters(k_clusters, len_vectors)"
   ]
  },
  {
   "cell_type": "markdown",
   "metadata": {},
   "source": [
    "Now we need to find sizes of clusters and populate them"
   ]
  },
  {
   "cell_type": "code",
   "execution_count": 47,
   "metadata": {
    "collapsed": false
   },
   "outputs": [],
   "source": [
    "cluster_sizes = simulate.get_cluster_sizes(k_clusters, dataset_size)\n",
    "populated = simulate.populate_cluster_with_errorous_data(original_clusters, cluster_sizes, error_perct)"
   ]
  },
  {
   "cell_type": "markdown",
   "metadata": {},
   "source": [
    "Finally we need to write true genotypes so please specify destination"
   ]
  },
  {
   "cell_type": "code",
   "execution_count": 48,
   "metadata": {
    "collapsed": true
   },
   "outputs": [],
   "source": [
    "write_true_genotypes_dir = \"./simulated_data/my_first_simulation_of_true_genotypes.txt\""
   ]
  },
  {
   "cell_type": "code",
   "execution_count": 49,
   "metadata": {
    "collapsed": false
   },
   "outputs": [],
   "source": [
    "target = open(write_true_genotypes_dir,'w+')\n",
    "for genotype in original_clusters:\n",
    "    target.write(\",\".join(map(str, genotype)) + \"\\n\")\n",
    "target.close()"
   ]
  },
  {
   "cell_type": "markdown",
   "metadata": {},
   "source": [
    "Now the same with populated clusters"
   ]
  },
  {
   "cell_type": "code",
   "execution_count": 50,
   "metadata": {
    "collapsed": true
   },
   "outputs": [],
   "source": [
    "write_populated_clusters_dir = \"./simulated_data/my_first_simulation_of_populated_clusters.txt\""
   ]
  },
  {
   "cell_type": "code",
   "execution_count": 51,
   "metadata": {
    "collapsed": true
   },
   "outputs": [],
   "source": [
    "target = open(write_populated_clusters_dir, 'w+')\n",
    "for key in populated.keys():\n",
    "    for el in populated[key]:\n",
    "        target.write(str(el) + ' | ' + str(key) + \"\\n\")\n",
    "target.close()"
   ]
  }
 ],
 "metadata": {
  "kernelspec": {
   "display_name": "Python 2",
   "language": "python",
   "name": "python2"
  },
  "language_info": {
   "codemirror_mode": {
    "name": "ipython",
    "version": 2
   },
   "file_extension": ".py",
   "mimetype": "text/x-python",
   "name": "python",
   "nbconvert_exporter": "python",
   "pygments_lexer": "ipython2",
   "version": "2.7.6"
  }
 },
 "nbformat": 4,
 "nbformat_minor": 0
}
